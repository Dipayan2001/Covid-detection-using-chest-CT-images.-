{
  "nbformat": 4,
  "nbformat_minor": 0,
  "metadata": {
    "colab": {
      "provenance": [],
      "collapsed_sections": [
        "Jeiw9rJADH-f"
      ]
    },
    "kernelspec": {
      "name": "python3",
      "display_name": "Python 3"
    },
    "accelerator": "TPU"
  },
  "cells": [
    {
      "cell_type": "code",
      "source": [
        "from google.colab import drive\n",
        "drive.mount('/content/drive')"
      ],
      "metadata": {
        "colab": {
          "base_uri": "https://localhost:8080/"
        },
        "id": "O9K9RWcnQq3V",
        "outputId": "1db224d8-e597-4268-abe2-568cf2dcf66b"
      },
      "execution_count": null,
      "outputs": [
        {
          "output_type": "stream",
          "name": "stdout",
          "text": [
            "Drive already mounted at /content/drive; to attempt to forcibly remount, call drive.mount(\"/content/drive\", force_remount=True).\n"
          ]
        }
      ]
    },
    {
      "cell_type": "markdown",
      "source": [
        "\n",
        "# **Processing Dataset**\n",
        "---\n",
        "\n"
      ],
      "metadata": {
        "id": "bpRuZs1zDYlw"
      }
    },
    {
      "cell_type": "code",
      "metadata": {
        "id": "lSQq-JnhoB5N"
      },
      "source": [
        "import os\n",
        "path='/content/drive/MyDrive/Project/CtCov/Covid/'\n",
        "for count, filename in enumerate(os.listdir(path)): \n",
        "  dst =\"covid\" + str(count) + \".png\"\n",
        "  src =path+ filename \n",
        "  dst =path+ dst \n",
        "  # rename() function will \n",
        "  # rename all the files \n",
        "  os.rename(src, dst)\n",
        "\n",
        "path='/content/drive/MyDrive/Project/CtCov/Normal/'\n",
        "for count, filename in enumerate(os.listdir(path)): \n",
        "  dst =\"noncovid\" + str(count) + \".png\"\n",
        "  src =path+ filename \n",
        "  dst =path+ dst \n",
        "  # rename() function will \n",
        "  # rename all the files \n",
        "  os.rename(src, dst)"
      ],
      "execution_count": null,
      "outputs": []
    },
    {
      "cell_type": "code",
      "metadata": {
        "id": "1R5N5-yvoNLK"
      },
      "source": [
        "# Initiate base directory\n",
        "base_dir = '/content/drive/MyDrive/Project/'\n",
        "if(os.path.isdir(base_dir)!=True):\n",
        "  os.mkdir(base_dir)"
      ],
      "execution_count": null,
      "outputs": []
    },
    {
      "cell_type": "code",
      "metadata": {
        "id": "piiLGfu5oT2O"
      },
      "source": [
        "# Create directories\n",
        "train_dir = os.path.join(base_dir, 'train')\n",
        "if(os.path.isdir(train_dir)!=True):\n",
        "  os.mkdir(train_dir)\n",
        "\n",
        "validation_dir = os.path.join(base_dir, 'validation')\n",
        "if(os.path.isdir(validation_dir)!=True):\n",
        "  os.mkdir(validation_dir)\n",
        "\n",
        "test_dir = os.path.join(base_dir, 'test')\n",
        "if(os.path.isdir(test_dir)!=True):\n",
        "  os.mkdir(test_dir)\n",
        "\n",
        "train_covid_dir = os.path.join(train_dir, 'covid')\n",
        "if(os.path.isdir(train_covid_dir)!=True):\n",
        "  os.mkdir(train_covid_dir)\n",
        "\n",
        "train_noncovid_dir = os.path.join(train_dir, 'noncovid')\n",
        "if(os.path.isdir(train_noncovid_dir)!=True):\n",
        "  os.mkdir(train_noncovid_dir)\n",
        "\n",
        "validation_covid_dir = os.path.join(validation_dir, 'covid')\n",
        "if(os.path.isdir(validation_covid_dir)!=True):\n",
        "  os.mkdir(validation_covid_dir)\n",
        "\n",
        "validation_noncovid_dir = os.path.join(validation_dir, 'noncovid')\n",
        "if(os.path.isdir(validation_noncovid_dir)!=True):\n",
        "  os.mkdir(validation_noncovid_dir)\n",
        "\n",
        "test_covid_dir = os.path.join(test_dir, 'covid')\n",
        "if(os.path.isdir(test_covid_dir)!=True):\n",
        "  os.mkdir(test_covid_dir)\n",
        "\n",
        "test_noncovid_dir = os.path.join(test_dir, 'noncovid')\n",
        "if(os.path.isdir(test_noncovid_dir)!=True):\n",
        "  os.mkdir(test_noncovid_dir)"
      ],
      "execution_count": null,
      "outputs": []
    },
    {
      "cell_type": "code",
      "metadata": {
        "id": "CcoxX4KFpGBg"
      },
      "source": [
        "original_dataset_dir_covid = '/content/drive/MyDrive/Project/CtCov/Covid/'\n",
        "original_dataset_dir_non_covid = '/content/drive/MyDrive/Project/CtCov/Normal/'\n",
        "\n",
        "import shutil\n",
        "fnames = ['covid{}.png'.format(i) for i in range(1000)]\n",
        "for fname in fnames:\n",
        "    src = os.path.join(original_dataset_dir_covid, fname)\n",
        "    dst = os.path.join(train_covid_dir, fname)\n",
        "    #print(src,dst)\n",
        "    shutil.copyfile(src, dst)\n",
        "    \n",
        "fnames = ['covid{}.png'.format(i) for i in range(1000, 1129)]\n",
        "for fname in fnames:\n",
        "    src = os.path.join(original_dataset_dir_covid, fname)\n",
        "    dst = os.path.join(validation_covid_dir, fname)\n",
        "    shutil.copyfile(src, dst)\n",
        "\n",
        "fnames = ['covid{}.png'.format(i) for i in range(1129, 1229)]\n",
        "for fname in fnames:\n",
        "    src = os.path.join(original_dataset_dir_covid, fname)\n",
        "    dst = os.path.join(test_covid_dir, fname)\n",
        "    shutil.copyfile(src, dst)\n",
        "\n",
        "fnames = ['noncovid{}.png'.format(i) for i in range(1000)]\n",
        "for fname in fnames:\n",
        "    src = os.path.join(original_dataset_dir_non_covid, fname)\n",
        "    dst = os.path.join(train_noncovid_dir, fname)\n",
        "    shutil.copyfile(src, dst)\n",
        "\n",
        "fnames = ['noncovid{}.png'.format(i) for i in range(1000, 1129)]\n",
        "for fname in fnames:\n",
        "    src = os.path.join(original_dataset_dir_non_covid, fname)\n",
        "    dst = os.path.join(validation_noncovid_dir, fname)\n",
        "    shutil.copyfile(src, dst)\n",
        "\n",
        "fnames = ['noncovid{}.png'.format(i) for i in range(1129, 1229)]\n",
        "for fname in fnames:\n",
        "    src = os.path.join(original_dataset_dir_non_covid, fname)\n",
        "    dst = os.path.join(test_noncovid_dir, fname)\n",
        "    shutil.copyfile(src, dst)"
      ],
      "execution_count": null,
      "outputs": []
    },
    {
      "cell_type": "code",
      "metadata": {
        "id": "02sgdwevpMJG",
        "colab": {
          "base_uri": "https://localhost:8080/"
        },
        "outputId": "4b23748c-7a60-4387-f578-84c28af7d36d"
      },
      "source": [
        "print('total training Covid images:', len(os.listdir(train_covid_dir)))\n",
        "print('total training NonCovid images:', len(os.listdir(train_noncovid_dir)))\n",
        "\n",
        "print('total validation Covid images:', len(os.listdir(validation_covid_dir)))\n",
        "print('total validation NonCovid images:', len(os.listdir(validation_noncovid_dir)))\n",
        "\n",
        "print('total test Covid images:', len(os.listdir(test_covid_dir)))\n",
        "print('total test NonCovid images:', len(os.listdir(test_noncovid_dir)))"
      ],
      "execution_count": null,
      "outputs": [
        {
          "output_type": "stream",
          "name": "stdout",
          "text": [
            "total training Covid images: 1000\n",
            "total training NonCovid images: 1000\n",
            "total validation Covid images: 129\n",
            "total validation NonCovid images: 129\n",
            "total test Covid images: 100\n",
            "total test NonCovid images: 100\n"
          ]
        }
      ]
    },
    {
      "cell_type": "markdown",
      "source": [
        "# **Simple CNN from Keras**\n",
        "---"
      ],
      "metadata": {
        "id": "K8dowX5cCldj"
      }
    },
    {
      "cell_type": "code",
      "metadata": {
        "id": "nBZjFbKipWKj",
        "colab": {
          "base_uri": "https://localhost:8080/"
        },
        "outputId": "93bbb0cf-1bd9-487d-e6fb-71f21e940298"
      },
      "source": [
        "# Create and Compile the Model\n",
        "from keras import layers\n",
        "from keras import models\n",
        "import tensorflow as tf\n",
        "\n",
        "model = models.Sequential()\n",
        "model.add(layers.Conv2D(32, (3, 3), activation='relu', input_shape=(150, 150, 3)))\n",
        "model.add(layers.MaxPooling2D((2, 2)))\n",
        "model.add(layers.Conv2D(64, (3, 3), activation='relu'))\n",
        "model.add(layers.MaxPooling2D((2, 2)))\n",
        "model.add(layers.Conv2D(128, (3, 3), activation='relu'))\n",
        "model.add(layers.MaxPooling2D((2, 2)))\n",
        "model.add(layers.Conv2D(128, (3, 3), activation='relu'))\n",
        "model.add(layers.MaxPooling2D((2, 2)))\n",
        "model.add(layers.Flatten())\n",
        "model.add(layers.Dense(512, activation='relu'))\n",
        "model.add(layers.Dense(1, activation='sigmoid'))\n",
        "model.summary()\n",
        "\n",
        "from keras import optimizers\n",
        "model.compile(loss='binary_crossentropy', \n",
        "              optimizer=tf.keras.optimizers.RMSprop(learning_rate=1e-4),\n",
        "              metrics=['acc'])"
      ],
      "execution_count": null,
      "outputs": [
        {
          "output_type": "stream",
          "name": "stdout",
          "text": [
            "Model: \"sequential_2\"\n",
            "_________________________________________________________________\n",
            " Layer (type)                Output Shape              Param #   \n",
            "=================================================================\n",
            " conv2d_8 (Conv2D)           (None, 148, 148, 32)      896       \n",
            "                                                                 \n",
            " max_pooling2d_8 (MaxPooling  (None, 74, 74, 32)       0         \n",
            " 2D)                                                             \n",
            "                                                                 \n",
            " conv2d_9 (Conv2D)           (None, 72, 72, 64)        18496     \n",
            "                                                                 \n",
            " max_pooling2d_9 (MaxPooling  (None, 36, 36, 64)       0         \n",
            " 2D)                                                             \n",
            "                                                                 \n",
            " conv2d_10 (Conv2D)          (None, 34, 34, 128)       73856     \n",
            "                                                                 \n",
            " max_pooling2d_10 (MaxPoolin  (None, 17, 17, 128)      0         \n",
            " g2D)                                                            \n",
            "                                                                 \n",
            " conv2d_11 (Conv2D)          (None, 15, 15, 128)       147584    \n",
            "                                                                 \n",
            " max_pooling2d_11 (MaxPoolin  (None, 7, 7, 128)        0         \n",
            " g2D)                                                            \n",
            "                                                                 \n",
            " flatten_6 (Flatten)         (None, 6272)              0         \n",
            "                                                                 \n",
            " dense_4 (Dense)             (None, 512)               3211776   \n",
            "                                                                 \n",
            " dense_5 (Dense)             (None, 1)                 513       \n",
            "                                                                 \n",
            "=================================================================\n",
            "Total params: 3,453,121\n",
            "Trainable params: 3,453,121\n",
            "Non-trainable params: 0\n",
            "_________________________________________________________________\n"
          ]
        }
      ]
    },
    {
      "cell_type": "code",
      "metadata": {
        "id": "BDixQUoGplcj",
        "colab": {
          "base_uri": "https://localhost:8080/"
        },
        "outputId": "f9d8f60d-f665-4b57-a5e7-e172a907d955"
      },
      "source": [
        "from keras.preprocessing.image import ImageDataGenerator\n",
        "\n",
        "train_datagen = ImageDataGenerator(rescale=1./255)\n",
        "valid_datagen = ImageDataGenerator(rescale=1./255)\n",
        "test_datagen = ImageDataGenerator(rescale=1./255)\n",
        "train_generator = train_datagen.flow_from_directory(train_dir,\n",
        "                                                    target_size=(150, 150), \n",
        "                                                    batch_size=20,\n",
        "                                                    class_mode='binary')\n",
        "\n",
        "validation_generator = valid_datagen.flow_from_directory(validation_dir,\n",
        "                                                        target_size=(150, 150),\n",
        "                                                        batch_size=10,\n",
        "                                                        class_mode='binary')\n",
        "\n",
        "test_generator = test_datagen.flow_from_directory(test_dir,\n",
        "                                                        target_size=(150, 150),\n",
        "                                                        batch_size=10,\n",
        "                                                        class_mode='binary')\n"
      ],
      "execution_count": null,
      "outputs": [
        {
          "output_type": "stream",
          "name": "stdout",
          "text": [
            "Found 2000 images belonging to 2 classes.\n",
            "Found 258 images belonging to 2 classes.\n",
            "Found 200 images belonging to 2 classes.\n"
          ]
        }
      ]
    },
    {
      "cell_type": "code",
      "source": [
        "#model=None"
      ],
      "metadata": {
        "id": "uqkVoorOfBaJ"
      },
      "execution_count": null,
      "outputs": []
    },
    {
      "cell_type": "code",
      "metadata": {
        "id": "G4x9-UZmpsUh",
        "colab": {
          "base_uri": "https://localhost:8080/"
        },
        "outputId": "a1649b1d-ff98-4537-872d-f3340d7c18df"
      },
      "source": [
        "# Fit the model \n",
        "history = model.fit_generator(train_generator,\n",
        "                              steps_per_epoch=15,\n",
        "                              epochs=20,\n",
        "                              validation_data=validation_generator,\n",
        "                              validation_steps=20)"
      ],
      "execution_count": null,
      "outputs": [
        {
          "output_type": "stream",
          "name": "stderr",
          "text": [
            "/usr/local/lib/python3.7/dist-packages/ipykernel_launcher.py:6: UserWarning: `Model.fit_generator` is deprecated and will be removed in a future version. Please use `Model.fit`, which supports generators.\n",
            "  \n"
          ]
        },
        {
          "output_type": "stream",
          "name": "stdout",
          "text": [
            "Epoch 1/20\n",
            "15/15 [==============================] - 23s 1s/step - loss: 0.7032 - acc: 0.5567 - val_loss: 0.6895 - val_acc: 0.4900\n",
            "Epoch 2/20\n",
            "15/15 [==============================] - 21s 1s/step - loss: 0.6784 - acc: 0.5633 - val_loss: 0.6746 - val_acc: 0.4950\n",
            "Epoch 3/20\n",
            "15/15 [==============================] - 20s 1s/step - loss: 0.6617 - acc: 0.6267 - val_loss: 0.7734 - val_acc: 0.4250\n",
            "Epoch 4/20\n",
            "15/15 [==============================] - 21s 1s/step - loss: 0.6573 - acc: 0.6267 - val_loss: 0.6067 - val_acc: 0.7550\n",
            "Epoch 5/20\n",
            "15/15 [==============================] - 21s 1s/step - loss: 0.6291 - acc: 0.6767 - val_loss: 0.5906 - val_acc: 0.6000\n",
            "Epoch 6/20\n",
            "15/15 [==============================] - 21s 1s/step - loss: 0.6059 - acc: 0.6767 - val_loss: 0.5150 - val_acc: 0.7800\n",
            "Epoch 7/20\n",
            "15/15 [==============================] - 21s 1s/step - loss: 0.6039 - acc: 0.6567 - val_loss: 0.5296 - val_acc: 0.7950\n",
            "Epoch 8/20\n",
            "15/15 [==============================] - 21s 1s/step - loss: 0.5486 - acc: 0.7133 - val_loss: 0.4880 - val_acc: 0.7750\n",
            "Epoch 9/20\n",
            "15/15 [==============================] - 21s 1s/step - loss: 0.5575 - acc: 0.7300 - val_loss: 0.5073 - val_acc: 0.7600\n",
            "Epoch 10/20\n",
            "15/15 [==============================] - 21s 1s/step - loss: 0.5164 - acc: 0.7467 - val_loss: 0.4441 - val_acc: 0.8100\n",
            "Epoch 11/20\n",
            "15/15 [==============================] - 21s 1s/step - loss: 0.5064 - acc: 0.7433 - val_loss: 0.4454 - val_acc: 0.8450\n",
            "Epoch 12/20\n",
            "15/15 [==============================] - 21s 1s/step - loss: 0.4655 - acc: 0.8067 - val_loss: 0.4499 - val_acc: 0.8050\n",
            "Epoch 13/20\n",
            "15/15 [==============================] - 21s 1s/step - loss: 0.5186 - acc: 0.7567 - val_loss: 0.4221 - val_acc: 0.8300\n",
            "Epoch 14/20\n",
            "15/15 [==============================] - 21s 1s/step - loss: 0.4933 - acc: 0.7567 - val_loss: 0.4328 - val_acc: 0.8350\n",
            "Epoch 15/20\n",
            "15/15 [==============================] - 21s 1s/step - loss: 0.4826 - acc: 0.7800 - val_loss: 0.4635 - val_acc: 0.7750\n",
            "Epoch 16/20\n",
            "15/15 [==============================] - 21s 1s/step - loss: 0.4609 - acc: 0.7933 - val_loss: 0.3996 - val_acc: 0.8300\n",
            "Epoch 17/20\n",
            "15/15 [==============================] - 21s 1s/step - loss: 0.4413 - acc: 0.8000 - val_loss: 0.4349 - val_acc: 0.7850\n",
            "Epoch 18/20\n",
            "15/15 [==============================] - 21s 1s/step - loss: 0.4575 - acc: 0.8033 - val_loss: 0.5781 - val_acc: 0.7300\n",
            "Epoch 19/20\n",
            "15/15 [==============================] - 21s 1s/step - loss: 0.4155 - acc: 0.8133 - val_loss: 0.5802 - val_acc: 0.7350\n",
            "Epoch 20/20\n",
            "15/15 [==============================] - 21s 1s/step - loss: 0.4438 - acc: 0.8033 - val_loss: 0.4718 - val_acc: 0.7850\n"
          ]
        }
      ]
    },
    {
      "cell_type": "code",
      "source": [
        "print(history.history.keys())\n",
        "print(history.history['val_acc'][-1])"
      ],
      "metadata": {
        "colab": {
          "base_uri": "https://localhost:8080/"
        },
        "id": "VC2y6XT5faGl",
        "outputId": "b6bff982-61a8-4e48-8353-7f817f93ae40"
      },
      "execution_count": null,
      "outputs": [
        {
          "output_type": "stream",
          "name": "stdout",
          "text": [
            "dict_keys(['loss', 'acc', 'val_loss', 'val_acc'])\n",
            "0.7850000262260437\n"
          ]
        }
      ]
    },
    {
      "cell_type": "code",
      "metadata": {
        "id": "g_MlPCDqpwpu",
        "colab": {
          "base_uri": "https://localhost:8080/",
          "height": 545
        },
        "outputId": "2e742b8c-9cfd-441d-bb5d-222e7e69c47f"
      },
      "source": [
        "import matplotlib.pyplot as plt\n",
        "\n",
        "acc = history.history['acc']\n",
        "val_acc = history.history['val_acc']\n",
        "loss = history.history['loss']\n",
        "val_loss = history.history['val_loss']\n",
        "\n",
        "epochs = range(1, len(acc) + 1)\n",
        "\n",
        "plt.plot(epochs, acc, 'r-.', label='Training acc')\n",
        "#plt.plot(epochs, acc, 'go')\n",
        "plt.plot(epochs, val_acc, 'b-', label='Validation acc')\n",
        "#plt.plot(epochs, val_acc, 'bo')\n",
        "plt.title('Training and validation accuracy')\n",
        "plt.legend()\n",
        "\n",
        "plt.savefig('/content/drive/MyDrive/Project/NormalCnnAcc.png',dpi=700)\n",
        "plt.show()\n",
        "\n",
        "plt.plot(epochs, loss, 'r-.', label='Training loss')\n",
        "#plt.plot(epochs, loss, 'ro')\n",
        "plt.plot(epochs, val_loss, 'b-', label='Validation loss')\n",
        "#plt.plot(epochs, val_loss, 'bo')\n",
        "plt.title('Training and validation loss')\n",
        "plt.legend()\n",
        "\n",
        "plt.savefig('/content/drive/MyDrive/Project/NormalCnnLoss.png',dpi=700)\n",
        "plt.show()"
      ],
      "execution_count": null,
      "outputs": [
        {
          "output_type": "display_data",
          "data": {
            "image/png": "[encoded data removed]",
            "text/plain": [
              "<Figure size 432x288 with 1 Axes>"
            ]
          },
          "metadata": {
            "needs_background": "light"
          }
        },
        {
          "output_type": "display_data",
          "data": {
            "image/png": "[encoded data removed]",
            "text/plain": [
              "<Figure size 432x288 with 1 Axes>"
            ]
          },
          "metadata": {
            "needs_background": "light"
          }
        }
      ]
    },
    {
      "cell_type": "code",
      "source": [
        "model.evaluate(test_generator)"
      ],
      "metadata": {
        "id": "Dk3K_zi3ZcvA",
        "colab": {
          "base_uri": "https://localhost:8080/"
        },
        "outputId": "0e96b1eb-3897-4610-9ab9-422ba4f59771"
      },
      "execution_count": null,
      "outputs": [
        {
          "output_type": "stream",
          "name": "stdout",
          "text": [
            "20/20 [==============================] - 4s 186ms/step - loss: 0.6670 - acc: 0.6950\n"
          ]
        },
        {
          "output_type": "execute_result",
          "data": {
            "text/plain": [
              "[0.6670490503311157, 0.6949999928474426]"
            ]
          },
          "metadata": {},
          "execution_count": 81
        }
      ]
    },
    {
      "cell_type": "markdown",
      "source": [
        "# **Using DropOut and Pic Augmentatition**\n",
        "---\n"
      ],
      "metadata": {
        "id": "Jeiw9rJADH-f"
      }
    },
    {
      "cell_type": "code",
      "metadata": {
        "id": "RCnhOYvwqKsq"
      },
      "source": [
        "model1 = models.Sequential()\n",
        "model1.add(layers.Conv2D(32, (3, 3), activation='relu',\n",
        "input_shape=(150, 150, 3)))\n",
        "model1.add(layers.MaxPooling2D((2, 2)))\n",
        "model1.add(layers.Conv2D(64, (3, 3), activation='relu'))\n",
        "model1.add(layers.MaxPooling2D((2, 2)))\n",
        "model1.add(layers.Conv2D(128, (3, 3), activation='relu'))\n",
        "model1.add(layers.MaxPooling2D((2, 2)))\n",
        "model1.add(layers.Conv2D(128, (3, 3), activation='relu'))\n",
        "model1.add(layers.MaxPooling2D((2, 2)))\n",
        "model1.add(layers.Flatten())\n",
        "model1.add(layers.Dropout(0.5))\n",
        "model1.add(layers.Dense(512, activation='relu'))\n",
        "model1.add(layers.Dense(1, activation='sigmoid'))\n",
        "\n",
        "model1.compile(loss='binary_crossentropy',\n",
        "              optimizer=tf.keras.optimizers.RMSprop(learning_rate=1e-4),\n",
        "              metrics=['acc'])"
      ],
      "execution_count": null,
      "outputs": []
    },
    {
      "cell_type": "code",
      "source": [
        "model1=None"
      ],
      "metadata": {
        "id": "yyPoXW7wWBQs"
      },
      "execution_count": null,
      "outputs": []
    },
    {
      "cell_type": "code",
      "source": [
        "train_dir"
      ],
      "metadata": {
        "colab": {
          "base_uri": "https://localhost:8080/",
          "height": 36
        },
        "id": "V5um2sFyPty4",
        "outputId": "d8728a10-6b36-4a0d-c776-50ff9d444404"
      },
      "execution_count": null,
      "outputs": [
        {
          "output_type": "execute_result",
          "data": {
            "application/vnd.google.colaboratory.intrinsic+json": {
              "type": "string"
            },
            "text/plain": [
              "'/content/drive/MyDrive/Project/train'"
            ]
          },
          "metadata": {},
          "execution_count": 83
        }
      ]
    },
    {
      "cell_type": "code",
      "metadata": {
        "id": "LUb_50-PqVsH",
        "colab": {
          "base_uri": "https://localhost:8080/"
        },
        "outputId": "a441592a-d745-4b1a-e0b7-d0740cfa14d3"
      },
      "source": [
        "train_datagen = ImageDataGenerator(rescale=1./255,\n",
        "                                   rotation_range=40,\n",
        "                                   width_shift_range=0.2,\n",
        "                                   height_shift_range=0.2,\n",
        "                                   shear_range=0.2,\n",
        "                                   zoom_range=0.2,\n",
        "                                   horizontal_flip=True,)\n",
        "\n",
        "test_datagen = ImageDataGenerator(rescale=1./255)\n",
        "\n",
        "train_generator = train_datagen.flow_from_directory(train_dir,\n",
        "                                                    target_size=(150, 150),\n",
        "                                                    batch_size=10,\n",
        "                                                    class_mode='binary')\n",
        "\n",
        "validation_generator = test_datagen.flow_from_directory(validation_dir,\n",
        "                                                        target_size=(150, 150),\n",
        "                                                        batch_size=5,\n",
        "                                                        class_mode='binary')\n"
      ],
      "execution_count": null,
      "outputs": [
        {
          "output_type": "stream",
          "name": "stdout",
          "text": [
            "Found 2000 images belonging to 2 classes.\n",
            "Found 258 images belonging to 2 classes.\n"
          ]
        }
      ]
    },
    {
      "cell_type": "code",
      "source": [
        "history1 = model1.fit_generator(train_generator,\n",
        "                              steps_per_epoch=20,\n",
        "                              epochs=30,\n",
        "                              validation_data=validation_generator,\n",
        "                              validation_steps=20)"
      ],
      "metadata": {
        "colab": {
          "base_uri": "https://localhost:8080/"
        },
        "id": "IZdrXCqzQKiC",
        "outputId": "533fd1e1-1846-4b36-8a58-7bedc7f2d8c8"
      },
      "execution_count": null,
      "outputs": [
        {
          "output_type": "stream",
          "name": "stderr",
          "text": [
            "/usr/local/lib/python3.7/dist-packages/ipykernel_launcher.py:5: UserWarning: `Model.fit_generator` is deprecated and will be removed in a future version. Please use `Model.fit`, which supports generators.\n",
            "  \"\"\"\n"
          ]
        },
        {
          "output_type": "stream",
          "name": "stdout",
          "text": [
            "Epoch 1/30\n",
            "20/20 [==============================] - 17s 731ms/step - loss: 0.6969 - acc: 0.5200 - val_loss: 0.6843 - val_acc: 0.5400\n",
            "Epoch 2/30\n",
            "20/20 [==============================] - 15s 727ms/step - loss: 0.6933 - acc: 0.5200 - val_loss: 0.6895 - val_acc: 0.5000\n",
            "Epoch 3/30\n",
            "20/20 [==============================] - 14s 717ms/step - loss: 0.6909 - acc: 0.5650 - val_loss: 0.6822 - val_acc: 0.4800\n",
            "Epoch 4/30\n",
            "20/20 [==============================] - 15s 734ms/step - loss: 0.6838 - acc: 0.5850 - val_loss: 0.7075 - val_acc: 0.4700\n",
            "Epoch 5/30\n",
            "20/20 [==============================] - 14s 708ms/step - loss: 0.7010 - acc: 0.4900 - val_loss: 0.6817 - val_acc: 0.5300\n",
            "Epoch 6/30\n",
            "20/20 [==============================] - 14s 719ms/step - loss: 0.6962 - acc: 0.5100 - val_loss: 0.6764 - val_acc: 0.7000\n",
            "Epoch 7/30\n",
            "20/20 [==============================] - 15s 745ms/step - loss: 0.6931 - acc: 0.5050 - val_loss: 0.6803 - val_acc: 0.5100\n",
            "Epoch 8/30\n",
            "20/20 [==============================] - 15s 740ms/step - loss: 0.6892 - acc: 0.5500 - val_loss: 0.6829 - val_acc: 0.5200\n",
            "Epoch 9/30\n",
            "20/20 [==============================] - 14s 717ms/step - loss: 0.6883 - acc: 0.5150 - val_loss: 0.6867 - val_acc: 0.5500\n",
            "Epoch 10/30\n",
            "20/20 [==============================] - 15s 731ms/step - loss: 0.6918 - acc: 0.5500 - val_loss: 0.6711 - val_acc: 0.7000\n",
            "Epoch 11/30\n",
            "20/20 [==============================] - 15s 752ms/step - loss: 0.6781 - acc: 0.5800 - val_loss: 0.6566 - val_acc: 0.5500\n",
            "Epoch 12/30\n",
            "20/20 [==============================] - 16s 793ms/step - loss: 0.6815 - acc: 0.5650 - val_loss: 0.6737 - val_acc: 0.5300\n",
            "Epoch 13/30\n",
            "20/20 [==============================] - 14s 719ms/step - loss: 0.6903 - acc: 0.5600 - val_loss: 0.6807 - val_acc: 0.5000\n",
            "Epoch 14/30\n",
            "20/20 [==============================] - 15s 733ms/step - loss: 0.6860 - acc: 0.5350 - val_loss: 0.6424 - val_acc: 0.8100\n",
            "Epoch 15/30\n",
            "20/20 [==============================] - 15s 728ms/step - loss: 0.6778 - acc: 0.5600 - val_loss: 0.6349 - val_acc: 0.5500\n",
            "Epoch 16/30\n",
            "20/20 [==============================] - 14s 720ms/step - loss: 0.6689 - acc: 0.5650 - val_loss: 0.6338 - val_acc: 0.7500\n",
            "Epoch 17/30\n",
            "20/20 [==============================] - 15s 728ms/step - loss: 0.6780 - acc: 0.5450 - val_loss: 0.6125 - val_acc: 0.8000\n",
            "Epoch 18/30\n",
            "20/20 [==============================] - 15s 757ms/step - loss: 0.6830 - acc: 0.5700 - val_loss: 0.6457 - val_acc: 0.6200\n",
            "Epoch 19/30\n",
            "20/20 [==============================] - 15s 757ms/step - loss: 0.6658 - acc: 0.5800 - val_loss: 0.6471 - val_acc: 0.5400\n",
            "Epoch 20/30\n",
            "20/20 [==============================] - 15s 755ms/step - loss: 0.6899 - acc: 0.5400 - val_loss: 0.6133 - val_acc: 0.7700\n",
            "Epoch 21/30\n",
            "20/20 [==============================] - 15s 754ms/step - loss: 0.6747 - acc: 0.5650 - val_loss: 0.6103 - val_acc: 0.7000\n",
            "Epoch 22/30\n",
            "20/20 [==============================] - 14s 715ms/step - loss: 0.6614 - acc: 0.5950 - val_loss: 0.6061 - val_acc: 0.5900\n",
            "Epoch 23/30\n",
            "20/20 [==============================] - 15s 734ms/step - loss: 0.6591 - acc: 0.6100 - val_loss: 0.5807 - val_acc: 0.7900\n",
            "Epoch 24/30\n",
            "20/20 [==============================] - 14s 714ms/step - loss: 0.6610 - acc: 0.6000 - val_loss: 0.5952 - val_acc: 0.7200\n",
            "Epoch 25/30\n",
            "20/20 [==============================] - 14s 709ms/step - loss: 0.6516 - acc: 0.6100 - val_loss: 0.5780 - val_acc: 0.7600\n",
            "Epoch 26/30\n",
            "20/20 [==============================] - 14s 710ms/step - loss: 0.6652 - acc: 0.5900 - val_loss: 0.5773 - val_acc: 0.7900\n",
            "Epoch 27/30\n",
            "20/20 [==============================] - 15s 766ms/step - loss: 0.6542 - acc: 0.6100 - val_loss: 0.5912 - val_acc: 0.6500\n",
            "Epoch 28/30\n",
            "20/20 [==============================] - 14s 720ms/step - loss: 0.6539 - acc: 0.5950 - val_loss: 0.6041 - val_acc: 0.6100\n",
            "Epoch 29/30\n",
            "20/20 [==============================] - 15s 724ms/step - loss: 0.6200 - acc: 0.6650 - val_loss: 0.5705 - val_acc: 0.7500\n",
            "Epoch 30/30\n",
            "20/20 [==============================] - 16s 795ms/step - loss: 0.6573 - acc: 0.6350 - val_loss: 0.5677 - val_acc: 0.5900\n"
          ]
        }
      ]
    },
    {
      "cell_type": "code",
      "source": [
        "model1.compile(loss='mse', optimizer='RMSprop', metrics=['acc'])\n",
        "\n",
        "print(history1.history.keys())\n",
        "print(history1.history['val_acc'][-1])"
      ],
      "metadata": {
        "colab": {
          "base_uri": "https://localhost:8080/"
        },
        "id": "Xed0Mp6XWgwy",
        "outputId": "29755735-fc9f-4b76-8c03-3401d21115d1"
      },
      "execution_count": null,
      "outputs": [
        {
          "output_type": "stream",
          "name": "stdout",
          "text": [
            "dict_keys(['loss', 'acc', 'val_loss', 'val_acc'])\n",
            "0.5899999737739563\n"
          ]
        }
      ]
    },
    {
      "cell_type": "code",
      "metadata": {
        "id": "3fdjHv1VsW0A",
        "colab": {
          "base_uri": "https://localhost:8080/",
          "height": 545
        },
        "outputId": "77115c33-1e6f-4859-f7bc-4cc128656634"
      },
      "source": [
        "\n",
        "import matplotlib.pyplot as plt\n",
        "\n",
        "acc = history1.history['acc']\n",
        "val_acc = history1.history['val_acc']\n",
        "loss = history1.history['loss']\n",
        "val_loss = history1.history['val_loss']\n",
        "\n",
        "epochs = range(1, len(acc) + 1)\n",
        "\n",
        "plt.plot(epochs, acc, 'r--', label='Training acc')\n",
        "plt.plot(epochs, val_acc, 'b-', label='Validation acc')\n",
        "plt.title('Training and validation accuracy')\n",
        "plt.legend()\n",
        "\n",
        "plt.figure()\n",
        "\n",
        "plt.plot(epochs, loss, 'r--', label='Training loss')\n",
        "plt.plot(epochs, val_loss, 'b-', label='Validation loss')\n",
        "plt.title('Training and validation loss')\n",
        "plt.legend()\n",
        "\n",
        "plt.show()"
      ],
      "execution_count": null,
      "outputs": [
        {
          "output_type": "display_data",
          "data": {
            "image/png": "[encoded data removed]",
            "text/plain": [
              "<Figure size 432x288 with 1 Axes>"
            ]
          },
          "metadata": {
            "needs_background": "light"
          }
        },
        {
          "output_type": "display_data",
          "data": {
            "image/png": "[encoded data removed]",
            "text/plain": [
              "<Figure size 432x288 with 1 Axes>"
            ]
          },
          "metadata": {
            "needs_background": "light"
          }
        }
      ]
    },
    {
      "cell_type": "markdown",
      "source": [
        "# **VGG16**\n",
        "\n",
        "---\n",
        "\n"
      ],
      "metadata": {
        "id": "9xkUqgoOELK6"
      }
    },
    {
      "cell_type": "code",
      "metadata": {
        "id": "WNLQrPFL57fX"
      },
      "source": [
        "from keras.preprocessing.image import ImageDataGenerator\n",
        "from keras.applications import vgg16\n",
        "from keras.models import Model\n",
        "from keras.layers import Dense, MaxPool2D, Conv2D\n",
        "import keras"
      ],
      "execution_count": null,
      "outputs": []
    },
    {
      "cell_type": "code",
      "source": [
        "train_path  = '/content/drive/MyDrive/Project/train'\n",
        "valid_path  = '/content/drive/MyDrive/Project/validation'\n",
        "test_path   = '/content/drive/MyDrive/Project/test'"
      ],
      "metadata": {
        "id": "gwLD2p6QjSC_"
      },
      "execution_count": null,
      "outputs": []
    },
    {
      "cell_type": "code",
      "source": [
        "train_path"
      ],
      "metadata": {
        "colab": {
          "base_uri": "https://localhost:8080/",
          "height": 36
        },
        "id": "F66DAA_O8w5N",
        "outputId": "3791922e-c63b-4d6a-dab7-41e8f976bf45"
      },
      "execution_count": null,
      "outputs": [
        {
          "output_type": "execute_result",
          "data": {
            "application/vnd.google.colaboratory.intrinsic+json": {
              "type": "string"
            },
            "text/plain": [
              "'/content/drive/MyDrive/Project/train'"
            ]
          },
          "metadata": {},
          "execution_count": 108
        }
      ]
    },
    {
      "cell_type": "code",
      "metadata": {
        "id": "AKPAtb2qLzf_"
      },
      "source": [
        "class_type = {0:'Covid',  1 : 'Normal'}"
      ],
      "execution_count": null,
      "outputs": []
    },
    {
      "cell_type": "code",
      "metadata": {
        "id": "JKGX0TYHNb5p"
      },
      "source": [
        "from keras.applications.vgg16 import VGG16\n",
        "from keras.layers import Flatten , Dense, Dropout , MaxPool2D"
      ],
      "execution_count": null,
      "outputs": []
    },
    {
      "cell_type": "code",
      "metadata": {
        "id": "gqKp3JWsPBko"
      },
      "source": [
        "vgg = VGG16( input_shape=(224,224,3), include_top= False) # include_top will consider the new weights"
      ],
      "execution_count": null,
      "outputs": []
    },
    {
      "cell_type": "code",
      "metadata": {
        "id": "Wgzk7oUdPhkU"
      },
      "source": [
        "for layer in vgg.layers:           # Dont Train the parameters again \n",
        "  layer.trainable = False"
      ],
      "execution_count": null,
      "outputs": []
    },
    {
      "cell_type": "code",
      "metadata": {
        "id": "3mUUVXttPpnK"
      },
      "source": [
        "x = Flatten()(vgg.output)\n",
        "x = Dense(units=2 , activation='sigmoid', name = 'predictions' )(x)\n",
        "\n",
        "model_vgg = Model(vgg.input, x)"
      ],
      "execution_count": null,
      "outputs": []
    },
    {
      "cell_type": "code",
      "metadata": {
        "id": "3UfkkhYkQIMN"
      },
      "source": [
        "model_vgg.summary()"
      ],
      "execution_count": null,
      "outputs": []
    },
    {
      "cell_type": "code",
      "metadata": {
        "id": "1x5_G4jKQVfK"
      },
      "source": [
        "model_vgg.compile(optimizer='adam', loss = 'categorical_crossentropy', metrics=['accuracy'])"
      ],
      "execution_count": null,
      "outputs": []
    },
    {
      "cell_type": "code",
      "metadata": {
        "id": "kP5ktcDfK4On"
      },
      "source": [
        "# implementing early stopping and model check point \n",
        "\n",
        "from keras.callbacks import EarlyStopping\n",
        "from keras.callbacks import ModelCheckpoint\n",
        "\n",
        "es = EarlyStopping(monitor= \"val_accuracy\" , min_delta= 0.01, patience= 3, verbose=1)\n",
        "mc = ModelCheckpoint(filepath=\"bestmodel.h5\", monitor=\"val_accuracy\", verbose=1, save_best_only= True)"
      ],
      "execution_count": null,
      "outputs": []
    },
    {
      "cell_type": "code",
      "metadata": {
        "colab": {
          "base_uri": "https://localhost:8080/"
        },
        "id": "pTQyToIn-d14",
        "outputId": "e45962a5-f2af-4c4c-b0dc-d1ca98976083"
      },
      "source": [
        "train_data_gen = ImageDataGenerator(preprocessing_function= vgg16.preprocess_input ,\n",
        "                                    zoom_range= 0.2,\n",
        "                                    horizontal_flip= True,\n",
        "                                    shear_range= 0.2 ,\n",
        "                                    rescale= 1./255)\n",
        "train = train_data_gen.flow_from_directory(directory= train_path ,\n",
        "                                           batch_size=5,\n",
        "                                           target_size=(224,224))"
      ],
      "execution_count": null,
      "outputs": [
        {
          "output_type": "stream",
          "name": "stdout",
          "text": [
            "Found 2000 images belonging to 2 classes.\n"
          ]
        }
      ]
    },
    {
      "cell_type": "code",
      "metadata": {
        "id": "r1xOq9FNQbso",
        "colab": {
          "base_uri": "https://localhost:8080/"
        },
        "outputId": "7787e5bb-f0ee-49b6-8488-c0ab90bc02a7"
      },
      "source": [
        "train.class_indices"
      ],
      "execution_count": null,
      "outputs": [
        {
          "output_type": "execute_result",
          "data": {
            "text/plain": [
              "{'covid': 0, 'noncovid': 1}"
            ]
          },
          "metadata": {},
          "execution_count": 127
        }
      ]
    },
    {
      "cell_type": "code",
      "metadata": {
        "colab": {
          "base_uri": "https://localhost:8080/"
        },
        "id": "K2wF6RfbAfIB",
        "outputId": "59f695e2-61cd-4dde-b12e-b3d95b40a031"
      },
      "source": [
        "validation_data_gen = ImageDataGenerator(preprocessing_function= vgg16.preprocess_input ,\n",
        "                                         rescale= 1./255 )\n",
        "valid = validation_data_gen.flow_from_directory(directory= valid_path ,\n",
        "                                                batch_size=5,\n",
        "                                                target_size=(224,224))"
      ],
      "execution_count": null,
      "outputs": [
        {
          "output_type": "stream",
          "name": "stdout",
          "text": [
            "Found 258 images belonging to 2 classes.\n"
          ]
        }
      ]
    },
    {
      "cell_type": "code",
      "metadata": {
        "colab": {
          "base_uri": "https://localhost:8080/"
        },
        "id": "SVi1gOAMBvXe",
        "outputId": "2aacea53-cdc2-4996-99f2-bac1daf30345"
      },
      "source": [
        "test_data_gen = ImageDataGenerator(preprocessing_function= vgg16.preprocess_input,\n",
        "                                   rescale= 1./255 )\n",
        "test = train_data_gen.flow_from_directory(directory= test_path,\n",
        "                                          target_size=(224,224),\n",
        "                                          batch_size=5,\n",
        "                                          shuffle= False)"
      ],
      "execution_count": null,
      "outputs": [
        {
          "output_type": "stream",
          "name": "stdout",
          "text": [
            "Found 200 images belonging to 2 classes.\n"
          ]
        }
      ]
    },
    {
      "cell_type": "code",
      "metadata": {
        "colab": {
          "base_uri": "https://localhost:8080/",
          "height": 348
        },
        "id": "TvBO0VG6RzVw",
        "outputId": "3de9c7cb-4be7-4b73-deff-f7e25cb121fa"
      },
      "source": [
        "hist = model_vgg.fit(train,\n",
        "                 steps_per_epoch= 5,\n",
        "                 epochs= 8,\n",
        "                 validation_data= valid ,\n",
        "                 validation_steps= 5)\n",
        "\n",
        "\"\"\"hist = model.fit_generator(train, steps_per_epoch= 10,\n",
        "                           epochs= 15,\n",
        "                           validation_data= valid ,\n",
        "                           validation_steps= 32,\n",
        "                           callbacks=[es,mc])\"\"\""
      ],
      "execution_count": null,
      "outputs": [
        {
          "output_type": "stream",
          "name": "stdout",
          "text": [
            "Epoch 1/8\n",
            "5/5 [==============================] - 31s 7s/step - loss: 1.5384 - accuracy: 0.4000 - val_loss: 0.5247 - val_accuracy: 0.7200\n",
            "Epoch 2/8\n",
            "5/5 [==============================] - 31s 7s/step - loss: 1.1866 - accuracy: 0.5200 - val_loss: 0.5254 - val_accuracy: 0.7200\n",
            "Epoch 3/8\n",
            "5/5 [==============================] - 27s 6s/step - loss: 0.6747 - accuracy: 0.7200 - val_loss: 0.6137 - val_accuracy: 0.6400\n",
            "Epoch 4/8\n",
            "5/5 [==============================] - 28s 6s/step - loss: 0.7150 - accuracy: 0.6800 - val_loss: 0.2334 - val_accuracy: 0.9600\n",
            "Epoch 5/8\n",
            "5/5 [==============================] - 28s 6s/step - loss: 0.9365 - accuracy: 0.4000 - val_loss: 0.4224 - val_accuracy: 0.8000\n",
            "Epoch 6/8\n",
            "5/5 [==============================] - 27s 6s/step - loss: 0.5141 - accuracy: 0.7600 - val_loss: 0.3133 - val_accuracy: 0.8800\n",
            "Epoch 7/8\n",
            "5/5 [==============================] - 27s 6s/step - loss: 0.5115 - accuracy: 0.8000 - val_loss: 0.3695 - val_accuracy: 0.8400\n",
            "Epoch 8/8\n",
            "5/5 [==============================] - 30s 7s/step - loss: 0.2802 - accuracy: 0.8800 - val_loss: 0.2853 - val_accuracy: 0.8800\n"
          ]
        },
        {
          "output_type": "execute_result",
          "data": {
            "application/vnd.google.colaboratory.intrinsic+json": {
              "type": "string"
            },
            "text/plain": [
              "'hist = model.fit_generator(train, steps_per_epoch= 10,\\n                           epochs= 15,\\n                           validation_data= valid ,\\n                           validation_steps= 32,\\n                           callbacks=[es,mc])'"
            ]
          },
          "metadata": {},
          "execution_count": 130
        }
      ]
    },
    {
      "cell_type": "code",
      "source": [
        "model_vgg.compile(loss='mse', optimizer='RMSprop', metrics=['acc'])\n",
        "\n",
        "history_dict = hist.history\n",
        "print(hist.history.keys())\n",
        "print(hist.history['val_accuracy'])"
      ],
      "metadata": {
        "colab": {
          "base_uri": "https://localhost:8080/"
        },
        "id": "jrccyBDN_6jr",
        "outputId": "e59b2ac0-e4eb-4578-bf99-d2f3e48b7817"
      },
      "execution_count": null,
      "outputs": [
        {
          "output_type": "stream",
          "name": "stdout",
          "text": [
            "dict_keys(['loss', 'accuracy', 'val_loss', 'val_accuracy'])\n",
            "[0.7200000286102295, 0.7200000286102295, 0.6399999856948853, 0.9599999785423279, 0.800000011920929, 0.8799999952316284, 0.8399999737739563, 0.8799999952316284]\n"
          ]
        }
      ]
    },
    {
      "cell_type": "code",
      "source": [
        "import matplotlib.pyplot as plt\n",
        "\n",
        "acc = hist.history['accuracy']\n",
        "val_acc = hist.history['val_accuracy']\n",
        "loss = hist.history['loss']\n",
        "val_loss = hist.history['val_loss']\n",
        "\n",
        "epochs = range(1, len(acc) + 1)\n",
        "\n",
        "plt.plot(epochs, acc,linestyle='-.',color='#e63946', label='Training acc')\n",
        "#plt.plot(epochs, acc, 'ro')\n",
        "plt.plot(epochs, val_acc, linestyle='-',color='#1d3557', label='Validation acc')\n",
        "#plt.plot(epochs, val_acc, 'bo')\n",
        "plt.title('Training and validation accuracy')\n",
        "plt.legend()\n",
        "\n",
        "plt.savefig('/content/drive/MyDrive/Project/Vgg16CnnAcc.png',dpi=700)\n",
        "plt.show()\n",
        "\n",
        "plt.plot(epochs, loss, linestyle='-.',color='#e63946', label='Training loss')\n",
        "plt.plot(epochs, val_loss, linestyle='-',color='#1d3557', label='Validation loss')\n",
        "plt.title('Training and validation loss')\n",
        "plt.legend()\n",
        "\n",
        "plt.savefig('/content/drive/MyDrive/Project/Vgg16CnnLoss.png',dpi=700)\n",
        "plt.show()"
      ],
      "metadata": {
        "colab": {
          "base_uri": "https://localhost:8080/",
          "height": 545
        },
        "id": "01UkFoKVAGxa",
        "outputId": "77468298-594e-4104-b4ed-6b3b38824494"
      },
      "execution_count": null,
      "outputs": [
        {
          "output_type": "display_data",
          "data": {
            "image/png": "[encoded data removed]",
            "text/plain": [
              "<Figure size 432x288 with 1 Axes>"
            ]
          },
          "metadata": {
            "needs_background": "light"
          }
        },
        {
          "output_type": "display_data",
          "data": {
            "image/png": "[encoded data removed]",
            "text/plain": [
              "<Figure size 432x288 with 1 Axes>"
            ]
          },
          "metadata": {
            "needs_background": "light"
          }
        }
      ]
    },
    {
      "cell_type": "code",
      "source": [
        "model_vgg.evaluate_generator(test)"
      ],
      "metadata": {
        "colab": {
          "base_uri": "https://localhost:8080/"
        },
        "id": "QGxQmO2pyYl5",
        "outputId": "652bd78f-7d3b-4636-a14d-f24955884ef7"
      },
      "execution_count": null,
      "outputs": [
        {
          "output_type": "stream",
          "name": "stderr",
          "text": [
            "/usr/local/lib/python3.7/dist-packages/ipykernel_launcher.py:1: UserWarning: `Model.evaluate_generator` is deprecated and will be removed in a future version. Please use `Model.evaluate`, which supports generators.\n",
            "  \"\"\"Entry point for launching an IPython kernel.\n"
          ]
        },
        {
          "output_type": "execute_result",
          "data": {
            "text/plain": [
              "[0.4823921322822571, 0.5149999856948853]"
            ]
          },
          "metadata": {},
          "execution_count": 72
        }
      ]
    },
    {
      "cell_type": "markdown",
      "source": [
        "# **Resnet50**\n",
        "\n",
        "---\n",
        "\n"
      ],
      "metadata": {
        "id": "y6s6-tRvEWDT"
      }
    },
    {
      "cell_type": "code",
      "metadata": {
        "id": "M-tntXzsCY2y"
      },
      "source": [
        "import keras\n",
        "from tensorflow.keras.preprocessing.image import ImageDataGenerator\n",
        "from tensorflow.keras.applications.resnet50 import preprocess_input, ResNet50\n",
        "from keras.models import Model\n",
        "from keras.layers import Dense, MaxPool2D, Conv2D\n"
      ],
      "execution_count": null,
      "outputs": []
    },
    {
      "cell_type": "code",
      "metadata": {
        "id": "ms7chXdk6n9x"
      },
      "source": [
        "# implementing early stopping and model check point \n",
        "\n",
        "from keras.callbacks import EarlyStopping\n",
        "from keras.callbacks import ModelCheckpoint\n",
        "\n",
        "es = EarlyStopping(monitor= \"val_accuracy\" , min_delta= 0.01, patience= 3, verbose=1)\n",
        "mc = ModelCheckpoint(filepath=\"bestmodel.h5\", monitor=\"val_accuracy\", verbose=1, save_best_only= True)"
      ],
      "execution_count": null,
      "outputs": []
    },
    {
      "cell_type": "code",
      "metadata": {
        "id": "R9CiE-gLCY28"
      },
      "source": [
        "class_type = {0:'Covid',  1 : 'Normal'}"
      ],
      "execution_count": null,
      "outputs": []
    },
    {
      "cell_type": "code",
      "metadata": {
        "id": "XmzWcrCgCY2-"
      },
      "source": [
        "res = ResNet50( input_shape=(224,224,3), include_top= False)"
      ],
      "execution_count": null,
      "outputs": []
    },
    {
      "cell_type": "code",
      "metadata": {
        "id": "A9wBxlWFCY2_"
      },
      "source": [
        "for layer in res.layers:\n",
        "  layer.trainable = False"
      ],
      "execution_count": null,
      "outputs": []
    },
    {
      "cell_type": "code",
      "metadata": {
        "id": "mOTBDYvoCY3A"
      },
      "source": [
        "x = Flatten()(res.output)\n",
        "x = Dense(units=2 , activation='sigmoid', name = 'predictions' )(x)\n",
        "\n",
        "model_res = Model(res.input, x)\n",
        "model_res.compile( optimizer= 'adam' , loss = 'categorical_crossentropy', metrics=['accuracy'])"
      ],
      "execution_count": null,
      "outputs": []
    },
    {
      "cell_type": "code",
      "source": [
        "model_res.summary()"
      ],
      "metadata": {
        "colab": {
          "base_uri": "https://localhost:8080/"
        },
        "id": "5Awm0AxH-7yF",
        "outputId": "e9a8c764-929d-455d-85e1-9137bde41ce5"
      },
      "execution_count": null,
      "outputs": [
        {
          "output_type": "stream",
          "name": "stdout",
          "text": [
            "Model: \"model_5\"\n",
            "__________________________________________________________________________________________________\n",
            " Layer (type)                   Output Shape         Param #     Connected to                     \n",
            "==================================================================================================\n",
            " input_5 (InputLayer)           [(None, 224, 224, 3  0           []                               \n",
            "                                )]                                                                \n",
            "                                                                                                  \n",
            " conv1_pad (ZeroPadding2D)      (None, 230, 230, 3)  0           ['input_5[0][0]']                \n",
            "                                                                                                  \n",
            " conv1_conv (Conv2D)            (None, 112, 112, 64  9472        ['conv1_pad[0][0]']              \n",
            "                                )                                                                 \n",
            "                                                                                                  \n",
            " conv1_bn (BatchNormalization)  (None, 112, 112, 64  256         ['conv1_conv[0][0]']             \n",
            "                                )                                                                 \n",
            "                                                                                                  \n",
            " conv1_relu (Activation)        (None, 112, 112, 64  0           ['conv1_bn[0][0]']               \n",
            "                                )                                                                 \n",
            "                                                                                                  \n",
            " pool1_pad (ZeroPadding2D)      (None, 114, 114, 64  0           ['conv1_relu[0][0]']             \n",
            "                                )                                                                 \n",
            "                                                                                                  \n",
            " pool1_pool (MaxPooling2D)      (None, 56, 56, 64)   0           ['pool1_pad[0][0]']              \n",
            "                                                                                                  \n",
            " conv2_block1_1_conv (Conv2D)   (None, 56, 56, 64)   4160        ['pool1_pool[0][0]']             \n",
            "                                                                                                  \n",
            " conv2_block1_1_bn (BatchNormal  (None, 56, 56, 64)  256         ['conv2_block1_1_conv[0][0]']    \n",
            " ization)                                                                                         \n",
            "                                                                                                  \n",
            " conv2_block1_1_relu (Activatio  (None, 56, 56, 64)  0           ['conv2_block1_1_bn[0][0]']      \n",
            " n)                                                                                               \n",
            "                                                                                                  \n",
            " conv2_block1_2_conv (Conv2D)   (None, 56, 56, 64)   36928       ['conv2_block1_1_relu[0][0]']    \n",
            "                                                                                                  \n",
            " conv2_block1_2_bn (BatchNormal  (None, 56, 56, 64)  256         ['conv2_block1_2_conv[0][0]']    \n",
            " ization)                                                                                         \n",
            "                                                                                                  \n",
            " conv2_block1_2_relu (Activatio  (None, 56, 56, 64)  0           ['conv2_block1_2_bn[0][0]']      \n",
            " n)                                                                                               \n",
            "                                                                                                  \n",
            " conv2_block1_0_conv (Conv2D)   (None, 56, 56, 256)  16640       ['pool1_pool[0][0]']             \n",
            "                                                                                                  \n",
            " conv2_block1_3_conv (Conv2D)   (None, 56, 56, 256)  16640       ['conv2_block1_2_relu[0][0]']    \n",
            "                                                                                                  \n",
            " conv2_block1_0_bn (BatchNormal  (None, 56, 56, 256)  1024       ['conv2_block1_0_conv[0][0]']    \n",
            " ization)                                                                                         \n",
            "                                                                                                  \n",
            " conv2_block1_3_bn (BatchNormal  (None, 56, 56, 256)  1024       ['conv2_block1_3_conv[0][0]']    \n",
            " ization)                                                                                         \n",
            "                                                                                                  \n",
            " conv2_block1_add (Add)         (None, 56, 56, 256)  0           ['conv2_block1_0_bn[0][0]',      \n",
            "                                                                  'conv2_block1_3_bn[0][0]']      \n",
            "                                                                                                  \n",
            " conv2_block1_out (Activation)  (None, 56, 56, 256)  0           ['conv2_block1_add[0][0]']       \n",
            "                                                                                                  \n",
            " conv2_block2_1_conv (Conv2D)   (None, 56, 56, 64)   16448       ['conv2_block1_out[0][0]']       \n",
            "                                                                                                  \n",
            " conv2_block2_1_bn (BatchNormal  (None, 56, 56, 64)  256         ['conv2_block2_1_conv[0][0]']    \n",
            " ization)                                                                                         \n",
            "                                                                                                  \n",
            " conv2_block2_1_relu (Activatio  (None, 56, 56, 64)  0           ['conv2_block2_1_bn[0][0]']      \n",
            " n)                                                                                               \n",
            "                                                                                                  \n",
            " conv2_block2_2_conv (Conv2D)   (None, 56, 56, 64)   36928       ['conv2_block2_1_relu[0][0]']    \n",
            "                                                                                                  \n",
            " conv2_block2_2_bn (BatchNormal  (None, 56, 56, 64)  256         ['conv2_block2_2_conv[0][0]']    \n",
            " ization)                                                                                         \n",
            "                                                                                                  \n",
            " conv2_block2_2_relu (Activatio  (None, 56, 56, 64)  0           ['conv2_block2_2_bn[0][0]']      \n",
            " n)                                                                                               \n",
            "                                                                                                  \n",
            " conv2_block2_3_conv (Conv2D)   (None, 56, 56, 256)  16640       ['conv2_block2_2_relu[0][0]']    \n",
            "                                                                                                  \n",
            " conv2_block2_3_bn (BatchNormal  (None, 56, 56, 256)  1024       ['conv2_block2_3_conv[0][0]']    \n",
            " ization)                                                                                         \n",
            "                                                                                                  \n",
            " conv2_block2_add (Add)         (None, 56, 56, 256)  0           ['conv2_block1_out[0][0]',       \n",
            "                                                                  'conv2_block2_3_bn[0][0]']      \n",
            "                                                                                                  \n",
            " conv2_block2_out (Activation)  (None, 56, 56, 256)  0           ['conv2_block2_add[0][0]']       \n",
            "                                                                                                  \n",
            " conv2_block3_1_conv (Conv2D)   (None, 56, 56, 64)   16448       ['conv2_block2_out[0][0]']       \n",
            "                                                                                                  \n",
            " conv2_block3_1_bn (BatchNormal  (None, 56, 56, 64)  256         ['conv2_block3_1_conv[0][0]']    \n",
            " ization)                                                                                         \n",
            "                                                                                                  \n",
            " conv2_block3_1_relu (Activatio  (None, 56, 56, 64)  0           ['conv2_block3_1_bn[0][0]']      \n",
            " n)                                                                                               \n",
            "                                                                                                  \n",
            " conv2_block3_2_conv (Conv2D)   (None, 56, 56, 64)   36928       ['conv2_block3_1_relu[0][0]']    \n",
            "                                                                                                  \n",
            " conv2_block3_2_bn (BatchNormal  (None, 56, 56, 64)  256         ['conv2_block3_2_conv[0][0]']    \n",
            " ization)                                                                                         \n",
            "                                                                                                  \n",
            " conv2_block3_2_relu (Activatio  (None, 56, 56, 64)  0           ['conv2_block3_2_bn[0][0]']      \n",
            " n)                                                                                               \n",
            "                                                                                                  \n",
            " conv2_block3_3_conv (Conv2D)   (None, 56, 56, 256)  16640       ['conv2_block3_2_relu[0][0]']    \n",
            "                                                                                                  \n",
            " conv2_block3_3_bn (BatchNormal  (None, 56, 56, 256)  1024       ['conv2_block3_3_conv[0][0]']    \n",
            " ization)                                                                                         \n",
            "                                                                                                  \n",
            " conv2_block3_add (Add)         (None, 56, 56, 256)  0           ['conv2_block2_out[0][0]',       \n",
            "                                                                  'conv2_block3_3_bn[0][0]']      \n",
            "                                                                                                  \n",
            " conv2_block3_out (Activation)  (None, 56, 56, 256)  0           ['conv2_block3_add[0][0]']       \n",
            "                                                                                                  \n",
            " conv3_block1_1_conv (Conv2D)   (None, 28, 28, 128)  32896       ['conv2_block3_out[0][0]']       \n",
            "                                                                                                  \n",
            " conv3_block1_1_bn (BatchNormal  (None, 28, 28, 128)  512        ['conv3_block1_1_conv[0][0]']    \n",
            " ization)                                                                                         \n",
            "                                                                                                  \n",
            " conv3_block1_1_relu (Activatio  (None, 28, 28, 128)  0          ['conv3_block1_1_bn[0][0]']      \n",
            " n)                                                                                               \n",
            "                                                                                                  \n",
            " conv3_block1_2_conv (Conv2D)   (None, 28, 28, 128)  147584      ['conv3_block1_1_relu[0][0]']    \n",
            "                                                                                                  \n",
            " conv3_block1_2_bn (BatchNormal  (None, 28, 28, 128)  512        ['conv3_block1_2_conv[0][0]']    \n",
            " ization)                                                                                         \n",
            "                                                                                                  \n",
            " conv3_block1_2_relu (Activatio  (None, 28, 28, 128)  0          ['conv3_block1_2_bn[0][0]']      \n",
            " n)                                                                                               \n",
            "                                                                                                  \n",
            " conv3_block1_0_conv (Conv2D)   (None, 28, 28, 512)  131584      ['conv2_block3_out[0][0]']       \n",
            "                                                                                                  \n",
            " conv3_block1_3_conv (Conv2D)   (None, 28, 28, 512)  66048       ['conv3_block1_2_relu[0][0]']    \n",
            "                                                                                                  \n",
            " conv3_block1_0_bn (BatchNormal  (None, 28, 28, 512)  2048       ['conv3_block1_0_conv[0][0]']    \n",
            " ization)                                                                                         \n",
            "                                                                                                  \n",
            " conv3_block1_3_bn (BatchNormal  (None, 28, 28, 512)  2048       ['conv3_block1_3_conv[0][0]']    \n",
            " ization)                                                                                         \n",
            "                                                                                                  \n",
            " conv3_block1_add (Add)         (None, 28, 28, 512)  0           ['conv3_block1_0_bn[0][0]',      \n",
            "                                                                  'conv3_block1_3_bn[0][0]']      \n",
            "                                                                                                  \n",
            " conv3_block1_out (Activation)  (None, 28, 28, 512)  0           ['conv3_block1_add[0][0]']       \n",
            "                                                                                                  \n",
            " conv3_block2_1_conv (Conv2D)   (None, 28, 28, 128)  65664       ['conv3_block1_out[0][0]']       \n",
            "                                                                                                  \n",
            " conv3_block2_1_bn (BatchNormal  (None, 28, 28, 128)  512        ['conv3_block2_1_conv[0][0]']    \n",
            " ization)                                                                                         \n",
            "                                                                                                  \n",
            " conv3_block2_1_relu (Activatio  (None, 28, 28, 128)  0          ['conv3_block2_1_bn[0][0]']      \n",
            " n)                                                                                               \n",
            "                                                                                                  \n",
            " conv3_block2_2_conv (Conv2D)   (None, 28, 28, 128)  147584      ['conv3_block2_1_relu[0][0]']    \n",
            "                                                                                                  \n",
            " conv3_block2_2_bn (BatchNormal  (None, 28, 28, 128)  512        ['conv3_block2_2_conv[0][0]']    \n",
            " ization)                                                                                         \n",
            "                                                                                                  \n",
            " conv3_block2_2_relu (Activatio  (None, 28, 28, 128)  0          ['conv3_block2_2_bn[0][0]']      \n",
            " n)                                                                                               \n",
            "                                                                                                  \n",
            " conv3_block2_3_conv (Conv2D)   (None, 28, 28, 512)  66048       ['conv3_block2_2_relu[0][0]']    \n",
            "                                                                                                  \n",
            " conv3_block2_3_bn (BatchNormal  (None, 28, 28, 512)  2048       ['conv3_block2_3_conv[0][0]']    \n",
            " ization)                                                                                         \n",
            "                                                                                                  \n",
            " conv3_block2_add (Add)         (None, 28, 28, 512)  0           ['conv3_block1_out[0][0]',       \n",
            "                                                                  'conv3_block2_3_bn[0][0]']      \n",
            "                                                                                                  \n",
            " conv3_block2_out (Activation)  (None, 28, 28, 512)  0           ['conv3_block2_add[0][0]']       \n",
            "                                                                                                  \n",
            " conv3_block3_1_conv (Conv2D)   (None, 28, 28, 128)  65664       ['conv3_block2_out[0][0]']       \n",
            "                                                                                                  \n",
            " conv3_block3_1_bn (BatchNormal  (None, 28, 28, 128)  512        ['conv3_block3_1_conv[0][0]']    \n",
            " ization)                                                                                         \n",
            "                                                                                                  \n",
            " conv3_block3_1_relu (Activatio  (None, 28, 28, 128)  0          ['conv3_block3_1_bn[0][0]']      \n",
            " n)                                                                                               \n",
            "                                                                                                  \n",
            " conv3_block3_2_conv (Conv2D)   (None, 28, 28, 128)  147584      ['conv3_block3_1_relu[0][0]']    \n",
            "                                                                                                  \n",
            " conv3_block3_2_bn (BatchNormal  (None, 28, 28, 128)  512        ['conv3_block3_2_conv[0][0]']    \n",
            " ization)                                                                                         \n",
            "                                                                                                  \n",
            " conv3_block3_2_relu (Activatio  (None, 28, 28, 128)  0          ['conv3_block3_2_bn[0][0]']      \n",
            " n)                                                                                               \n",
            "                                                                                                  \n",
            " conv3_block3_3_conv (Conv2D)   (None, 28, 28, 512)  66048       ['conv3_block3_2_relu[0][0]']    \n",
            "                                                                                                  \n",
            " conv3_block3_3_bn (BatchNormal  (None, 28, 28, 512)  2048       ['conv3_block3_3_conv[0][0]']    \n",
            " ization)                                                                                         \n",
            "                                                                                                  \n",
            " conv3_block3_add (Add)         (None, 28, 28, 512)  0           ['conv3_block2_out[0][0]',       \n",
            "                                                                  'conv3_block3_3_bn[0][0]']      \n",
            "                                                                                                  \n",
            " conv3_block3_out (Activation)  (None, 28, 28, 512)  0           ['conv3_block3_add[0][0]']       \n",
            "                                                                                                  \n",
            " conv3_block4_1_conv (Conv2D)   (None, 28, 28, 128)  65664       ['conv3_block3_out[0][0]']       \n",
            "                                                                                                  \n",
            " conv3_block4_1_bn (BatchNormal  (None, 28, 28, 128)  512        ['conv3_block4_1_conv[0][0]']    \n",
            " ization)                                                                                         \n",
            "                                                                                                  \n",
            " conv3_block4_1_relu (Activatio  (None, 28, 28, 128)  0          ['conv3_block4_1_bn[0][0]']      \n",
            " n)                                                                                               \n",
            "                                                                                                  \n",
            " conv3_block4_2_conv (Conv2D)   (None, 28, 28, 128)  147584      ['conv3_block4_1_relu[0][0]']    \n",
            "                                                                                                  \n",
            " conv3_block4_2_bn (BatchNormal  (None, 28, 28, 128)  512        ['conv3_block4_2_conv[0][0]']    \n",
            " ization)                                                                                         \n",
            "                                                                                                  \n",
            " conv3_block4_2_relu (Activatio  (None, 28, 28, 128)  0          ['conv3_block4_2_bn[0][0]']      \n",
            " n)                                                                                               \n",
            "                                                                                                  \n",
            " conv3_block4_3_conv (Conv2D)   (None, 28, 28, 512)  66048       ['conv3_block4_2_relu[0][0]']    \n",
            "                                                                                                  \n",
            " conv3_block4_3_bn (BatchNormal  (None, 28, 28, 512)  2048       ['conv3_block4_3_conv[0][0]']    \n",
            " ization)                                                                                         \n",
            "                                                                                                  \n",
            " conv3_block4_add (Add)         (None, 28, 28, 512)  0           ['conv3_block3_out[0][0]',       \n",
            "                                                                  'conv3_block4_3_bn[0][0]']      \n",
            "                                                                                                  \n",
            " conv3_block4_out (Activation)  (None, 28, 28, 512)  0           ['conv3_block4_add[0][0]']       \n",
            "                                                                                                  \n",
            " conv4_block1_1_conv (Conv2D)   (None, 14, 14, 256)  131328      ['conv3_block4_out[0][0]']       \n",
            "                                                                                                  \n",
            " conv4_block1_1_bn (BatchNormal  (None, 14, 14, 256)  1024       ['conv4_block1_1_conv[0][0]']    \n",
            " ization)                                                                                         \n",
            "                                                                                                  \n",
            " conv4_block1_1_relu (Activatio  (None, 14, 14, 256)  0          ['conv4_block1_1_bn[0][0]']      \n",
            " n)                                                                                               \n",
            "                                                                                                  \n",
            " conv4_block1_2_conv (Conv2D)   (None, 14, 14, 256)  590080      ['conv4_block1_1_relu[0][0]']    \n",
            "                                                                                                  \n",
            " conv4_block1_2_bn (BatchNormal  (None, 14, 14, 256)  1024       ['conv4_block1_2_conv[0][0]']    \n",
            " ization)                                                                                         \n",
            "                                                                                                  \n",
            " conv4_block1_2_relu (Activatio  (None, 14, 14, 256)  0          ['conv4_block1_2_bn[0][0]']      \n",
            " n)                                                                                               \n",
            "                                                                                                  \n",
            " conv4_block1_0_conv (Conv2D)   (None, 14, 14, 1024  525312      ['conv3_block4_out[0][0]']       \n",
            "                                )                                                                 \n",
            "                                                                                                  \n",
            " conv4_block1_3_conv (Conv2D)   (None, 14, 14, 1024  263168      ['conv4_block1_2_relu[0][0]']    \n",
            "                                )                                                                 \n",
            "                                                                                                  \n",
            " conv4_block1_0_bn (BatchNormal  (None, 14, 14, 1024  4096       ['conv4_block1_0_conv[0][0]']    \n",
            " ization)                       )                                                                 \n",
            "                                                                                                  \n",
            " conv4_block1_3_bn (BatchNormal  (None, 14, 14, 1024  4096       ['conv4_block1_3_conv[0][0]']    \n",
            " ization)                       )                                                                 \n",
            "                                                                                                  \n",
            " conv4_block1_add (Add)         (None, 14, 14, 1024  0           ['conv4_block1_0_bn[0][0]',      \n",
            "                                )                                 'conv4_block1_3_bn[0][0]']      \n",
            "                                                                                                  \n",
            " conv4_block1_out (Activation)  (None, 14, 14, 1024  0           ['conv4_block1_add[0][0]']       \n",
            "                                )                                                                 \n",
            "                                                                                                  \n",
            " conv4_block2_1_conv (Conv2D)   (None, 14, 14, 256)  262400      ['conv4_block1_out[0][0]']       \n",
            "                                                                                                  \n",
            " conv4_block2_1_bn (BatchNormal  (None, 14, 14, 256)  1024       ['conv4_block2_1_conv[0][0]']    \n",
            " ization)                                                                                         \n",
            "                                                                                                  \n",
            " conv4_block2_1_relu (Activatio  (None, 14, 14, 256)  0          ['conv4_block2_1_bn[0][0]']      \n",
            " n)                                                                                               \n",
            "                                                                                                  \n",
            " conv4_block2_2_conv (Conv2D)   (None, 14, 14, 256)  590080      ['conv4_block2_1_relu[0][0]']    \n",
            "                                                                                                  \n",
            " conv4_block2_2_bn (BatchNormal  (None, 14, 14, 256)  1024       ['conv4_block2_2_conv[0][0]']    \n",
            " ization)                                                                                         \n",
            "                                                                                                  \n",
            " conv4_block2_2_relu (Activatio  (None, 14, 14, 256)  0          ['conv4_block2_2_bn[0][0]']      \n",
            " n)                                                                                               \n",
            "                                                                                                  \n",
            " conv4_block2_3_conv (Conv2D)   (None, 14, 14, 1024  263168      ['conv4_block2_2_relu[0][0]']    \n",
            "                                )                                                                 \n",
            "                                                                                                  \n",
            " conv4_block2_3_bn (BatchNormal  (None, 14, 14, 1024  4096       ['conv4_block2_3_conv[0][0]']    \n",
            " ization)                       )                                                                 \n",
            "                                                                                                  \n",
            " conv4_block2_add (Add)         (None, 14, 14, 1024  0           ['conv4_block1_out[0][0]',       \n",
            "                                )                                 'conv4_block2_3_bn[0][0]']      \n",
            "                                                                                                  \n",
            " conv4_block2_out (Activation)  (None, 14, 14, 1024  0           ['conv4_block2_add[0][0]']       \n",
            "                                )                                                                 \n",
            "                                                                                                  \n",
            " conv4_block3_1_conv (Conv2D)   (None, 14, 14, 256)  262400      ['conv4_block2_out[0][0]']       \n",
            "                                                                                                  \n",
            " conv4_block3_1_bn (BatchNormal  (None, 14, 14, 256)  1024       ['conv4_block3_1_conv[0][0]']    \n",
            " ization)                                                                                         \n",
            "                                                                                                  \n",
            " conv4_block3_1_relu (Activatio  (None, 14, 14, 256)  0          ['conv4_block3_1_bn[0][0]']      \n",
            " n)                                                                                               \n",
            "                                                                                                  \n",
            " conv4_block3_2_conv (Conv2D)   (None, 14, 14, 256)  590080      ['conv4_block3_1_relu[0][0]']    \n",
            "                                                                                                  \n",
            " conv4_block3_2_bn (BatchNormal  (None, 14, 14, 256)  1024       ['conv4_block3_2_conv[0][0]']    \n",
            " ization)                                                                                         \n",
            "                                                                                                  \n",
            " conv4_block3_2_relu (Activatio  (None, 14, 14, 256)  0          ['conv4_block3_2_bn[0][0]']      \n",
            " n)                                                                                               \n",
            "                                                                                                  \n",
            " conv4_block3_3_conv (Conv2D)   (None, 14, 14, 1024  263168      ['conv4_block3_2_relu[0][0]']    \n",
            "                                )                                                                 \n",
            "                                                                                                  \n",
            " conv4_block3_3_bn (BatchNormal  (None, 14, 14, 1024  4096       ['conv4_block3_3_conv[0][0]']    \n",
            " ization)                       )                                                                 \n",
            "                                                                                                  \n",
            " conv4_block3_add (Add)         (None, 14, 14, 1024  0           ['conv4_block2_out[0][0]',       \n",
            "                                )                                 'conv4_block3_3_bn[0][0]']      \n",
            "                                                                                                  \n",
            " conv4_block3_out (Activation)  (None, 14, 14, 1024  0           ['conv4_block3_add[0][0]']       \n",
            "                                )                                                                 \n",
            "                                                                                                  \n",
            " conv4_block4_1_conv (Conv2D)   (None, 14, 14, 256)  262400      ['conv4_block3_out[0][0]']       \n",
            "                                                                                                  \n",
            " conv4_block4_1_bn (BatchNormal  (None, 14, 14, 256)  1024       ['conv4_block4_1_conv[0][0]']    \n",
            " ization)                                                                                         \n",
            "                                                                                                  \n",
            " conv4_block4_1_relu (Activatio  (None, 14, 14, 256)  0          ['conv4_block4_1_bn[0][0]']      \n",
            " n)                                                                                               \n",
            "                                                                                                  \n",
            " conv4_block4_2_conv (Conv2D)   (None, 14, 14, 256)  590080      ['conv4_block4_1_relu[0][0]']    \n",
            "                                                                                                  \n",
            " conv4_block4_2_bn (BatchNormal  (None, 14, 14, 256)  1024       ['conv4_block4_2_conv[0][0]']    \n",
            " ization)                                                                                         \n",
            "                                                                                                  \n",
            " conv4_block4_2_relu (Activatio  (None, 14, 14, 256)  0          ['conv4_block4_2_bn[0][0]']      \n",
            " n)                                                                                               \n",
            "                                                                                                  \n",
            " conv4_block4_3_conv (Conv2D)   (None, 14, 14, 1024  263168      ['conv4_block4_2_relu[0][0]']    \n",
            "                                )                                                                 \n",
            "                                                                                                  \n",
            " conv4_block4_3_bn (BatchNormal  (None, 14, 14, 1024  4096       ['conv4_block4_3_conv[0][0]']    \n",
            " ization)                       )                                                                 \n",
            "                                                                                                  \n",
            " conv4_block4_add (Add)         (None, 14, 14, 1024  0           ['conv4_block3_out[0][0]',       \n",
            "                                )                                 'conv4_block4_3_bn[0][0]']      \n",
            "                                                                                                  \n",
            " conv4_block4_out (Activation)  (None, 14, 14, 1024  0           ['conv4_block4_add[0][0]']       \n",
            "                                )                                                                 \n",
            "                                                                                                  \n",
            " conv4_block5_1_conv (Conv2D)   (None, 14, 14, 256)  262400      ['conv4_block4_out[0][0]']       \n",
            "                                                                                                  \n",
            " conv4_block5_1_bn (BatchNormal  (None, 14, 14, 256)  1024       ['conv4_block5_1_conv[0][0]']    \n",
            " ization)                                                                                         \n",
            "                                                                                                  \n",
            " conv4_block5_1_relu (Activatio  (None, 14, 14, 256)  0          ['conv4_block5_1_bn[0][0]']      \n",
            " n)                                                                                               \n",
            "                                                                                                  \n",
            " conv4_block5_2_conv (Conv2D)   (None, 14, 14, 256)  590080      ['conv4_block5_1_relu[0][0]']    \n",
            "                                                                                                  \n",
            " conv4_block5_2_bn (BatchNormal  (None, 14, 14, 256)  1024       ['conv4_block5_2_conv[0][0]']    \n",
            " ization)                                                                                         \n",
            "                                                                                                  \n",
            " conv4_block5_2_relu (Activatio  (None, 14, 14, 256)  0          ['conv4_block5_2_bn[0][0]']      \n",
            " n)                                                                                               \n",
            "                                                                                                  \n",
            " conv4_block5_3_conv (Conv2D)   (None, 14, 14, 1024  263168      ['conv4_block5_2_relu[0][0]']    \n",
            "                                )                                                                 \n",
            "                                                                                                  \n",
            " conv4_block5_3_bn (BatchNormal  (None, 14, 14, 1024  4096       ['conv4_block5_3_conv[0][0]']    \n",
            " ization)                       )                                                                 \n",
            "                                                                                                  \n",
            " conv4_block5_add (Add)         (None, 14, 14, 1024  0           ['conv4_block4_out[0][0]',       \n",
            "                                )                                 'conv4_block5_3_bn[0][0]']      \n",
            "                                                                                                  \n",
            " conv4_block5_out (Activation)  (None, 14, 14, 1024  0           ['conv4_block5_add[0][0]']       \n",
            "                                )                                                                 \n",
            "                                                                                                  \n",
            " conv4_block6_1_conv (Conv2D)   (None, 14, 14, 256)  262400      ['conv4_block5_out[0][0]']       \n",
            "                                                                                                  \n",
            " conv4_block6_1_bn (BatchNormal  (None, 14, 14, 256)  1024       ['conv4_block6_1_conv[0][0]']    \n",
            " ization)                                                                                         \n",
            "                                                                                                  \n",
            " conv4_block6_1_relu (Activatio  (None, 14, 14, 256)  0          ['conv4_block6_1_bn[0][0]']      \n",
            " n)                                                                                               \n",
            "                                                                                                  \n",
            " conv4_block6_2_conv (Conv2D)   (None, 14, 14, 256)  590080      ['conv4_block6_1_relu[0][0]']    \n",
            "                                                                                                  \n",
            " conv4_block6_2_bn (BatchNormal  (None, 14, 14, 256)  1024       ['conv4_block6_2_conv[0][0]']    \n",
            " ization)                                                                                         \n",
            "                                                                                                  \n",
            " conv4_block6_2_relu (Activatio  (None, 14, 14, 256)  0          ['conv4_block6_2_bn[0][0]']      \n",
            " n)                                                                                               \n",
            "                                                                                                  \n",
            " conv4_block6_3_conv (Conv2D)   (None, 14, 14, 1024  263168      ['conv4_block6_2_relu[0][0]']    \n",
            "                                )                                                                 \n",
            "                                                                                                  \n",
            " conv4_block6_3_bn (BatchNormal  (None, 14, 14, 1024  4096       ['conv4_block6_3_conv[0][0]']    \n",
            " ization)                       )                                                                 \n",
            "                                                                                                  \n",
            " conv4_block6_add (Add)         (None, 14, 14, 1024  0           ['conv4_block5_out[0][0]',       \n",
            "                                )                                 'conv4_block6_3_bn[0][0]']      \n",
            "                                                                                                  \n",
            " conv4_block6_out (Activation)  (None, 14, 14, 1024  0           ['conv4_block6_add[0][0]']       \n",
            "                                )                                                                 \n",
            "                                                                                                  \n",
            " conv5_block1_1_conv (Conv2D)   (None, 7, 7, 512)    524800      ['conv4_block6_out[0][0]']       \n",
            "                                                                                                  \n",
            " conv5_block1_1_bn (BatchNormal  (None, 7, 7, 512)   2048        ['conv5_block1_1_conv[0][0]']    \n",
            " ization)                                                                                         \n",
            "                                                                                                  \n",
            " conv5_block1_1_relu (Activatio  (None, 7, 7, 512)   0           ['conv5_block1_1_bn[0][0]']      \n",
            " n)                                                                                               \n",
            "                                                                                                  \n",
            " conv5_block1_2_conv (Conv2D)   (None, 7, 7, 512)    2359808     ['conv5_block1_1_relu[0][0]']    \n",
            "                                                                                                  \n",
            " conv5_block1_2_bn (BatchNormal  (None, 7, 7, 512)   2048        ['conv5_block1_2_conv[0][0]']    \n",
            " ization)                                                                                         \n",
            "                                                                                                  \n",
            " conv5_block1_2_relu (Activatio  (None, 7, 7, 512)   0           ['conv5_block1_2_bn[0][0]']      \n",
            " n)                                                                                               \n",
            "                                                                                                  \n",
            " conv5_block1_0_conv (Conv2D)   (None, 7, 7, 2048)   2099200     ['conv4_block6_out[0][0]']       \n",
            "                                                                                                  \n",
            " conv5_block1_3_conv (Conv2D)   (None, 7, 7, 2048)   1050624     ['conv5_block1_2_relu[0][0]']    \n",
            "                                                                                                  \n",
            " conv5_block1_0_bn (BatchNormal  (None, 7, 7, 2048)  8192        ['conv5_block1_0_conv[0][0]']    \n",
            " ization)                                                                                         \n",
            "                                                                                                  \n",
            " conv5_block1_3_bn (BatchNormal  (None, 7, 7, 2048)  8192        ['conv5_block1_3_conv[0][0]']    \n",
            " ization)                                                                                         \n",
            "                                                                                                  \n",
            " conv5_block1_add (Add)         (None, 7, 7, 2048)   0           ['conv5_block1_0_bn[0][0]',      \n",
            "                                                                  'conv5_block1_3_bn[0][0]']      \n",
            "                                                                                                  \n",
            " conv5_block1_out (Activation)  (None, 7, 7, 2048)   0           ['conv5_block1_add[0][0]']       \n",
            "                                                                                                  \n",
            " conv5_block2_1_conv (Conv2D)   (None, 7, 7, 512)    1049088     ['conv5_block1_out[0][0]']       \n",
            "                                                                                                  \n",
            " conv5_block2_1_bn (BatchNormal  (None, 7, 7, 512)   2048        ['conv5_block2_1_conv[0][0]']    \n",
            " ization)                                                                                         \n",
            "                                                                                                  \n",
            " conv5_block2_1_relu (Activatio  (None, 7, 7, 512)   0           ['conv5_block2_1_bn[0][0]']      \n",
            " n)                                                                                               \n",
            "                                                                                                  \n",
            " conv5_block2_2_conv (Conv2D)   (None, 7, 7, 512)    2359808     ['conv5_block2_1_relu[0][0]']    \n",
            "                                                                                                  \n",
            " conv5_block2_2_bn (BatchNormal  (None, 7, 7, 512)   2048        ['conv5_block2_2_conv[0][0]']    \n",
            " ization)                                                                                         \n",
            "                                                                                                  \n",
            " conv5_block2_2_relu (Activatio  (None, 7, 7, 512)   0           ['conv5_block2_2_bn[0][0]']      \n",
            " n)                                                                                               \n",
            "                                                                                                  \n",
            " conv5_block2_3_conv (Conv2D)   (None, 7, 7, 2048)   1050624     ['conv5_block2_2_relu[0][0]']    \n",
            "                                                                                                  \n",
            " conv5_block2_3_bn (BatchNormal  (None, 7, 7, 2048)  8192        ['conv5_block2_3_conv[0][0]']    \n",
            " ization)                                                                                         \n",
            "                                                                                                  \n",
            " conv5_block2_add (Add)         (None, 7, 7, 2048)   0           ['conv5_block1_out[0][0]',       \n",
            "                                                                  'conv5_block2_3_bn[0][0]']      \n",
            "                                                                                                  \n",
            " conv5_block2_out (Activation)  (None, 7, 7, 2048)   0           ['conv5_block2_add[0][0]']       \n",
            "                                                                                                  \n",
            " conv5_block3_1_conv (Conv2D)   (None, 7, 7, 512)    1049088     ['conv5_block2_out[0][0]']       \n",
            "                                                                                                  \n",
            " conv5_block3_1_bn (BatchNormal  (None, 7, 7, 512)   2048        ['conv5_block3_1_conv[0][0]']    \n",
            " ization)                                                                                         \n",
            "                                                                                                  \n",
            " conv5_block3_1_relu (Activatio  (None, 7, 7, 512)   0           ['conv5_block3_1_bn[0][0]']      \n",
            " n)                                                                                               \n",
            "                                                                                                  \n",
            " conv5_block3_2_conv (Conv2D)   (None, 7, 7, 512)    2359808     ['conv5_block3_1_relu[0][0]']    \n",
            "                                                                                                  \n",
            " conv5_block3_2_bn (BatchNormal  (None, 7, 7, 512)   2048        ['conv5_block3_2_conv[0][0]']    \n",
            " ization)                                                                                         \n",
            "                                                                                                  \n",
            " conv5_block3_2_relu (Activatio  (None, 7, 7, 512)   0           ['conv5_block3_2_bn[0][0]']      \n",
            " n)                                                                                               \n",
            "                                                                                                  \n",
            " conv5_block3_3_conv (Conv2D)   (None, 7, 7, 2048)   1050624     ['conv5_block3_2_relu[0][0]']    \n",
            "                                                                                                  \n",
            " conv5_block3_3_bn (BatchNormal  (None, 7, 7, 2048)  8192        ['conv5_block3_3_conv[0][0]']    \n",
            " ization)                                                                                         \n",
            "                                                                                                  \n",
            " conv5_block3_add (Add)         (None, 7, 7, 2048)   0           ['conv5_block2_out[0][0]',       \n",
            "                                                                  'conv5_block3_3_bn[0][0]']      \n",
            "                                                                                                  \n",
            " conv5_block3_out (Activation)  (None, 7, 7, 2048)   0           ['conv5_block3_add[0][0]']       \n",
            "                                                                                                  \n",
            " flatten_9 (Flatten)            (None, 100352)       0           ['conv5_block3_out[0][0]']       \n",
            "                                                                                                  \n",
            " predictions (Dense)            (None, 2)            200706      ['flatten_9[0][0]']              \n",
            "                                                                                                  \n",
            "==================================================================================================\n",
            "Total params: 23,788,418\n",
            "Trainable params: 200,706\n",
            "Non-trainable params: 23,587,712\n",
            "__________________________________________________________________________________________________\n"
          ]
        }
      ]
    },
    {
      "cell_type": "code",
      "metadata": {
        "colab": {
          "base_uri": "https://localhost:8080/"
        },
        "outputId": "6540aaab-a378-44da-d6ab-4a0deb53f1c2",
        "id": "fH8vcYP4CY22"
      },
      "source": [
        "train_data_gen = ImageDataGenerator(preprocessing_function= preprocess_input, \n",
        "                                    zoom_range= 0.2, \n",
        "                                    horizontal_flip= True, \n",
        "                                    shear_range= 0.2,\n",
        "                                    \n",
        "                                    )\n",
        "\n",
        "train = train_data_gen.flow_from_directory(directory= train_path,\n",
        "                                           batch_size=15,\n",
        "                                           target_size=(224,224))\n",
        "\n",
        "validation_data_gen = ImageDataGenerator(preprocessing_function= preprocess_input  )\n",
        "\n",
        "valid = validation_data_gen.flow_from_directory(directory= valid_path,\n",
        "                                                batch_size=8,\n",
        "                                                target_size=(224,224))"
      ],
      "execution_count": null,
      "outputs": [
        {
          "output_type": "stream",
          "name": "stdout",
          "text": [
            "Found 2000 images belonging to 2 classes.\n",
            "Found 258 images belonging to 2 classes.\n"
          ]
        }
      ]
    },
    {
      "cell_type": "code",
      "metadata": {
        "colab": {
          "base_uri": "https://localhost:8080/"
        },
        "outputId": "0a428941-9e08-4440-eda1-6d0fa156b42d",
        "id": "Z2PpeSmLCY27"
      },
      "source": [
        "test_data_gen = ImageDataGenerator(preprocessing_function= preprocess_input )\n",
        "\n",
        "test = train_data_gen.flow_from_directory(directory= test_path , \n",
        "                                          target_size=(224,224), \n",
        "                                          shuffle= False)"
      ],
      "execution_count": null,
      "outputs": [
        {
          "output_type": "stream",
          "name": "stdout",
          "text": [
            "Found 200 images belonging to 2 classes.\n"
          ]
        }
      ]
    },
    {
      "cell_type": "code",
      "metadata": {
        "colab": {
          "base_uri": "https://localhost:8080/"
        },
        "outputId": "b3cb6821-c837-45a3-f27d-e177cdfb6d59",
        "id": "T25vF4trCY3C"
      },
      "source": [
        "hist_res = model_res.fit_generator(train, \n",
        "                           steps_per_epoch= 10,\n",
        "                           epochs= 20, \n",
        "                           validation_data= valid , \n",
        "                           validation_steps= 16) \n",
        "                           #callbacks=[es,mc])"
      ],
      "execution_count": null,
      "outputs": [
        {
          "output_type": "stream",
          "name": "stderr",
          "text": [
            "/usr/local/lib/python3.7/dist-packages/ipykernel_launcher.py:5: UserWarning: `Model.fit_generator` is deprecated and will be removed in a future version. Please use `Model.fit`, which supports generators.\n",
            "  \"\"\"\n"
          ]
        },
        {
          "output_type": "stream",
          "name": "stdout",
          "text": [
            "Epoch 1/20\n",
            "10/10 [==============================] - 58s 6s/step - loss: 11.2860 - accuracy: 0.5533 - val_loss: 9.7523 - val_accuracy: 0.6094\n",
            "Epoch 2/20\n",
            "10/10 [==============================] - 52s 5s/step - loss: 4.6908 - accuracy: 0.8000 - val_loss: 7.3687 - val_accuracy: 0.6719\n",
            "Epoch 3/20\n",
            "10/10 [==============================] - 50s 5s/step - loss: 4.6062 - accuracy: 0.7933 - val_loss: 5.2731 - val_accuracy: 0.7734\n",
            "Epoch 4/20\n",
            "10/10 [==============================] - 51s 5s/step - loss: 3.3140 - accuracy: 0.8467 - val_loss: 3.2652 - val_accuracy: 0.8125\n",
            "Epoch 5/20\n",
            "10/10 [==============================] - 51s 5s/step - loss: 3.7414 - accuracy: 0.8600 - val_loss: 3.7743 - val_accuracy: 0.8125\n",
            "Epoch 6/20\n",
            "10/10 [==============================] - 50s 5s/step - loss: 1.4725 - accuracy: 0.9067 - val_loss: 3.2931 - val_accuracy: 0.8281\n",
            "Epoch 7/20\n",
            "10/10 [==============================] - 51s 5s/step - loss: 2.6894 - accuracy: 0.8400 - val_loss: 2.4308 - val_accuracy: 0.7891\n",
            "Epoch 8/20\n",
            "10/10 [==============================] - 49s 5s/step - loss: 1.3784 - accuracy: 0.9067 - val_loss: 3.6424 - val_accuracy: 0.7891\n",
            "Epoch 9/20\n",
            "10/10 [==============================] - 51s 5s/step - loss: 1.0105 - accuracy: 0.9200 - val_loss: 6.2647 - val_accuracy: 0.7344\n",
            "Epoch 10/20\n",
            "10/10 [==============================] - 50s 5s/step - loss: 1.8800 - accuracy: 0.9000 - val_loss: 2.6401 - val_accuracy: 0.8125\n",
            "Epoch 11/20\n",
            "10/10 [==============================] - 49s 5s/step - loss: 1.9232 - accuracy: 0.8800 - val_loss: 2.4663 - val_accuracy: 0.8594\n",
            "Epoch 12/20\n",
            "10/10 [==============================] - 49s 5s/step - loss: 1.2715 - accuracy: 0.9133 - val_loss: 2.0710 - val_accuracy: 0.8359\n",
            "Epoch 13/20\n",
            "10/10 [==============================] - 49s 5s/step - loss: 0.9379 - accuracy: 0.9067 - val_loss: 2.5548 - val_accuracy: 0.8516\n",
            "Epoch 14/20\n",
            "10/10 [==============================] - 53s 6s/step - loss: 1.1142 - accuracy: 0.9067 - val_loss: 3.0668 - val_accuracy: 0.8047\n",
            "Epoch 15/20\n",
            "10/10 [==============================] - 51s 5s/step - loss: 0.8996 - accuracy: 0.9200 - val_loss: 2.7222 - val_accuracy: 0.8281\n",
            "Epoch 16/20\n",
            "10/10 [==============================] - 53s 5s/step - loss: 1.2690 - accuracy: 0.9133 - val_loss: 3.4279 - val_accuracy: 0.8047\n",
            "Epoch 17/20\n",
            "10/10 [==============================] - 51s 5s/step - loss: 1.6906 - accuracy: 0.9000 - val_loss: 2.4706 - val_accuracy: 0.8672\n",
            "Epoch 18/20\n",
            "10/10 [==============================] - 49s 5s/step - loss: 2.0480 - accuracy: 0.8929 - val_loss: 9.8891 - val_accuracy: 0.7500\n",
            "Epoch 19/20\n",
            "10/10 [==============================] - 52s 5s/step - loss: 2.3854 - accuracy: 0.9067 - val_loss: 3.4031 - val_accuracy: 0.7578\n",
            "Epoch 20/20\n",
            "10/10 [==============================] - 50s 5s/step - loss: 2.4460 - accuracy: 0.8867 - val_loss: 5.9074 - val_accuracy: 0.8047\n"
          ]
        }
      ]
    },
    {
      "cell_type": "code",
      "metadata": {
        "colab": {
          "base_uri": "https://localhost:8080/"
        },
        "id": "cm6fkbNMSIjn",
        "outputId": "c933481a-c1a7-4663-a965-407617b530f3"
      },
      "source": [
        "h = hist_res.history\n",
        "h.keys()"
      ],
      "execution_count": null,
      "outputs": [
        {
          "output_type": "execute_result",
          "data": {
            "text/plain": [
              "dict_keys(['loss', 'accuracy', 'val_loss', 'val_accuracy'])"
            ]
          },
          "metadata": {},
          "execution_count": 67
        }
      ]
    },
    {
      "cell_type": "code",
      "metadata": {
        "colab": {
          "base_uri": "https://localhost:8080/",
          "height": 545
        },
        "id": "p8twRJtlS1fR",
        "outputId": "762d2962-d723-46c3-975c-0cfa55a332b2"
      },
      "source": [
        "import matplotlib.pyplot as plt\n",
        "\n",
        "acc = hist_res.history['accuracy']\n",
        "val_acc = hist_res.history['val_accuracy']\n",
        "loss = hist_res.history['loss']\n",
        "val_loss = hist_res.history['val_loss']\n",
        "\n",
        "epochs = range(1, len(acc) + 1)\n",
        "\n",
        "plt.plot(epochs, acc,linestyle='-.',color='#b56576', label='Training acc')\n",
        "#plt.plot(epochs, acc, 'ro')\n",
        "plt.plot(epochs, val_acc, linestyle='-',color='#004b23', label='Validation acc')\n",
        "#plt.plot(epochs, val_acc, 'bo')\n",
        "plt.title('Training and validation accuracy')\n",
        "plt.legend()\n",
        "\n",
        "plt.savefig('/content/drive/MyDrive/Project/ResnetAcc.png',dpi=700)\n",
        "plt.show()\n",
        "\n",
        "plt.plot(epochs, loss, linestyle='-.',color='#b56576', label='Training loss')\n",
        "plt.plot(epochs, val_loss, linestyle='-',color='#004b23', label='Validation loss')\n",
        "plt.title('Training and validation loss')\n",
        "plt.legend()\n",
        "\n",
        "plt.savefig('/content/drive/MyDrive/Project/ResnetLoss.png',dpi=700)\n",
        "plt.show()"
      ],
      "execution_count": null,
      "outputs": [
        {
          "output_type": "display_data",
          "data": {
            "image/png": "[encoded data removed]",
            "text/plain": [
              "<Figure size 432x288 with 1 Axes>"
            ]
          },
          "metadata": {
            "needs_background": "light"
          }
        },
        {
          "output_type": "display_data",
          "data": {
            "image/png": "[encoded data removed]",
            "text/plain": [
              "<Figure size 432x288 with 1 Axes>"
            ]
          },
          "metadata": {
            "needs_background": "light"
          }
        }
      ]
    },
    {
      "cell_type": "code",
      "source": [
        "model.evaluate(test)"
      ],
      "metadata": {
        "colab": {
          "base_uri": "https://localhost:8080/"
        },
        "id": "hb2vKCrd0Egp",
        "outputId": "3b498b2f-7679-43c1-c801-b745089ed1f9"
      },
      "execution_count": null,
      "outputs": [
        {
          "output_type": "stream",
          "name": "stdout",
          "text": [
            "7/7 [==============================] - 37s 5s/step - loss: 17.5182 - accuracy: 0.6050\n"
          ]
        },
        {
          "output_type": "execute_result",
          "data": {
            "text/plain": [
              "[17.518171310424805, 0.6050000190734863]"
            ]
          },
          "metadata": {},
          "execution_count": 73
        }
      ]
    }
  ]
}